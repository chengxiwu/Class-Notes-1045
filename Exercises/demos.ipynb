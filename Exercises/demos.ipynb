{
 "cells": [
  {
   "cell_type": "markdown",
   "id": "e71ce0e7-8d11-4450-b9a8-8c6d7b0ca089",
   "metadata": {},
   "source": [
    "tim"
   ]
  },
  {
   "cell_type": "code",
   "execution_count": null,
   "id": "bac2f47f-6b8e-4589-b79f-4d4b46270203",
   "metadata": {},
   "outputs": [],
   "source": [
    "df2.fillna(value=-1) # fill na values with -1\n",
    "\n",
    "# Question 2\n",
    "df3 = df2.copy() # create a copy of df2\n",
    "df3['B'] = df3['B'].fillna(value=-1) # fill the values in column B with -1\n",
    "df3 # print\n",
    "\n",
    "# Question 3\n",
    "df2.fillna(value=df.mean()) # fill na's with mean\n"
   ]
  },
  {
   "cell_type": "markdown",
   "id": "85233dcb-61d6-456a-ae77-12dd3505e27f",
   "metadata": {},
   "source": [
    "margaux"
   ]
  },
  {
   "cell_type": "code",
   "execution_count": null,
   "id": "b15de2c9-2fae-4135-a49a-6c97736345c7",
   "metadata": {},
   "outputs": [],
   "source": [
    "Q1\n",
    "_df1.fillna(-1)\n",
    "Q2\n",
    "_df1[\"B\"] = _df1[\"B\"].fillna('B')\n",
    "Q3\n",
    "_df1.replace(_df1['A'],_df1['A'].mean(), inplace= True)\n",
    "_df1.replace(_df1['B'],_df1['B'].mean(), inplace= True)\n",
    "_df1.replace(_df1['C'],_df1['C'].mean(), inplace= True)\n",
    "_df1.replace(_df1['D'],_df1['D'].mean(), inplace= True)"
   ]
  },
  {
   "cell_type": "markdown",
   "id": "2f433747-4d40-489c-9081-f81453a26844",
   "metadata": {},
   "source": [
    "sz-je /steven"
   ]
  },
  {
   "cell_type": "code",
   "execution_count": null,
   "id": "75ba07b6-d7d1-4046-867e-d965925c1677",
   "metadata": {},
   "outputs": [],
   "source": [
    "df_filled_q1 = df.fillna(-1)\n",
    "df_filled_q1\n",
    "\n",
    "df_filled_q2 = df.fillna({'B': -1})\n",
    "df_filled_q2\n",
    "\n",
    "df_filled_q3 = df.fillna(df.mean())\n",
    "df_filled_q3"
   ]
  },
  {
   "cell_type": "markdown",
   "id": "c4dac007-c0a3-49df-9231-b0e15ca55d73",
   "metadata": {},
   "source": [
    "Jake"
   ]
  },
  {
   "cell_type": "code",
   "execution_count": null,
   "id": "50f3d8f1-dc8e-46eb-8b6b-a716eacda817",
   "metadata": {},
   "outputs": [],
   "source": [
    "#Q1\n",
    "\n",
    "df.fillna(-1, inplace=True)\n",
    "\n",
    "# Q2\n",
    "\n",
    "df2['B'] = df2['B'].fillna(-1)\n",
    "df2 \n",
    "\n",
    "#Q3\n",
    "\n",
    "df2 = df2.fillna(df2.mean())"
   ]
  },
  {
   "cell_type": "markdown",
   "id": "ef05c348-12e2-4ae1-8959-bce4951ebe40",
   "metadata": {},
   "source": [
    "Luca"
   ]
  },
  {
   "cell_type": "code",
   "execution_count": null,
   "id": "8fe7720e-5ee6-43f7-832c-56f750521cac",
   "metadata": {},
   "outputs": [],
   "source": [
    "# Q1. Fill all missing values with -1\n",
    "df2.fillna(-1)\n",
    "\n",
    "# Q2. Fill missing values for variable “B” with -1\n",
    "df2['B'] = df['B'].fillna(-1)\n",
    "df2\n",
    "\n",
    "# Q3. Fill all values with the mean for the variable\n",
    "df2 = df2.fillna(df2.mean())\n",
    "df2"
   ]
  }
 ],
 "metadata": {
  "kernelspec": {
   "display_name": "Python 3 (ipykernel)",
   "language": "python",
   "name": "python3"
  },
  "language_info": {
   "codemirror_mode": {
    "name": "ipython",
    "version": 3
   },
   "file_extension": ".py",
   "mimetype": "text/x-python",
   "name": "python",
   "nbconvert_exporter": "python",
   "pygments_lexer": "ipython3",
   "version": "3.8.16"
  }
 },
 "nbformat": 4,
 "nbformat_minor": 5
}
