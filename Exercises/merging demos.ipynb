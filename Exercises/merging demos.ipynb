{
 "cells": [
  {
   "cell_type": "markdown",
   "id": "e71ce0e7-8d11-4450-b9a8-8c6d7b0ca089",
   "metadata": {},
   "source": [
    "sikai"
   ]
  },
  {
   "cell_type": "code",
   "execution_count": null,
   "id": "bac2f47f-6b8e-4589-b79f-4d4b46270203",
   "metadata": {},
   "outputs": [],
   "source": [
    "Here is my work for demo assignment.\n",
    "\n",
    "left_merge = pd.merge(left_df, right_df, how = 'left')\n",
    "print(left_merge)\n",
    "print(len(left_merge))\n",
    "\n",
    "right_merge = pd.merge(left_df, right_df, how = 'right')\n",
    "print(right_merge)\n",
    "print(len(right_merge))\n",
    "\n",
    "outer_merge = pd.merge(left_df, right_df, how = 'outer')\n",
    "print(outer_merge)\n",
    "print(len(outer_merge))\n",
    "\n",
    "inner_merge = pd.merge(left_df, right_df, how = 'inner')\n",
    "print(inner_merge)\n",
    "print(len(inner_merge))\n",
    "\n",
    "3\n",
    "3\n",
    "5\n",
    "1"
   ]
  },
  {
   "cell_type": "markdown",
   "id": "85233dcb-61d6-456a-ae77-12dd3505e27f",
   "metadata": {},
   "source": [
    "jerrick"
   ]
  },
  {
   "cell_type": "code",
   "execution_count": null,
   "id": "b15de2c9-2fae-4135-a49a-6c97736345c7",
   "metadata": {},
   "outputs": [],
   "source": [
    "outer_merge = pd.merge(left_df, right_df, on='firm', how='outer')\n",
    "print('Outer merge:')\n",
    "print(outer_merge)\n",
    "print('Number of observations:5')\n",
    "\n",
    "right_merge = pd.merge(left_df, right_df, on='firm', how='right')\n",
    "print('Right merge:')\n",
    "print(right_merge)\n",
    "print('Number of observations:3')\n",
    "\n",
    "left_merge = pd.merge(left_df, right_df, on='firm', how='left')\n",
    "print('Left merge:')\n",
    "print(left_merge)\n",
    "print('Number of observations:3')\n",
    "\n",
    "inner_merge = pd.merge(left_df, right_df, on='firm', how='inner')\n",
    "print('Inner merge:')\n",
    "print(inner_merge)\n",
    "print('Number of observations:1')"
   ]
  },
  {
   "cell_type": "markdown",
   "id": "2f433747-4d40-489c-9081-f81453a26844",
   "metadata": {},
   "source": [
    "nathan a"
   ]
  },
  {
   "cell_type": "code",
   "execution_count": null,
   "id": "75ba07b6-d7d1-4046-867e-d965925c1677",
   "metadata": {},
   "outputs": [],
   "source": [
    "left_merge = left_df.merge(right_df, on='firm', how='left')\n",
    "\n",
    "print(\"Number of observations:\", len(left_merge))\n",
    "\n",
    "print(\"Left merge result:\")\n",
    "\n",
    "left_merge\n",
    "\n",
    "# Right merge\n",
    "\n",
    "right_merge = right_df.merge(left_df, on='firm', how='right')\n",
    "\n",
    "print(\"Number of observations:\", len(right_merge))\n",
    "\n",
    "print(\"Left merge result:\")\n",
    "\n",
    "right_merge\n",
    "\n",
    "# Inner merge\n",
    "\n",
    "inner_merge = left_df.merge(right_df, on='firm', how='inner')\n",
    "\n",
    "print(\"Number of observations:\", len(inner_merge))\n",
    "\n",
    "print(\"Inner merge result:\")\n",
    "\n",
    "right_merge\n",
    "\n",
    "# Outer merge\n",
    "\n",
    "outer_merge = left_df.merge(right_df, on='firm', how='outer')\n",
    "\n",
    "print(\"Number of observations:\", len(outer_merge))\n",
    "\n",
    "print(\"Outer merge result:\")\n",
    "\n",
    "right_merge\n",
    "\n"
   ]
  },
  {
   "cell_type": "markdown",
   "id": "c4dac007-c0a3-49df-9231-b0e15ca55d73",
   "metadata": {},
   "source": [
    "Carter"
   ]
  },
  {
   "cell_type": "code",
   "execution_count": null,
   "id": "50f3d8f1-dc8e-46eb-8b6b-a716eacda817",
   "metadata": {},
   "outputs": [],
   "source": []
  },
  {
   "cell_type": "markdown",
   "id": "ef05c348-12e2-4ae1-8959-bce4951ebe40",
   "metadata": {},
   "source": [
    "kyra"
   ]
  },
  {
   "cell_type": "code",
   "execution_count": null,
   "id": "8fe7720e-5ee6-43f7-832c-56f750521cac",
   "metadata": {},
   "outputs": [],
   "source": [
    "#left\n",
    "left_df.merge(right_df, how='left')\n",
    "#there are 3 observations\n",
    "\n",
    "#right\n",
    "left_df.merge(right_df, how='right')\n",
    "#there are 3 observations\n",
    "\n",
    "#outer\n",
    "left_df.merge(right_df, how='outer')\n",
    "#there are 5 observations\n",
    "\n",
    "#inner\n",
    "left_df.merge(right_df, how='inner')\n",
    "#there is 1 observation\n",
    "\n",
    "#cross\n",
    "left_df.merge(right_df, how='cross')\n",
    "#there are 9 observations\n",
    "\n"
   ]
  }
 ],
 "metadata": {
  "kernelspec": {
   "display_name": "Python 3 (ipykernel)",
   "language": "python",
   "name": "python3"
  },
  "language_info": {
   "codemirror_mode": {
    "name": "ipython",
    "version": 3
   },
   "file_extension": ".py",
   "mimetype": "text/x-python",
   "name": "python",
   "nbconvert_exporter": "python",
   "pygments_lexer": "ipython3",
   "version": "3.8.16"
  }
 },
 "nbformat": 4,
 "nbformat_minor": 5
}
