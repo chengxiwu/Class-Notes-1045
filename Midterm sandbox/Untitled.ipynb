{
 "cells": [
  {
   "cell_type": "markdown",
   "id": "64a8ce6d-d83c-47bc-9317-e8098ca20c29",
   "metadata": {},
   "source": [
    "# Setting up the analysis\n",
    "\n",
    "## Getting the data on the sample firms"
   ]
  },
  {
   "cell_type": "code",
   "execution_count": 21,
   "id": "e4f4bf34-8a19-41f0-b941-91fcc304477a",
   "metadata": {},
   "outputs": [],
   "source": [
    "import pandas as pd\n",
    "import os\n",
    "from sec_edgar_downloader import Downloader\n",
    "\n",
    "import warnings\n",
    "warnings.filterwarnings(\"ignore\", message=\"It looks like you're parsing an XML document using an HTML parser\")\n",
    "\n",
    "os.makedirs('inputs',exist_ok=True)\n",
    "os.makedirs('10k_files',exist_ok=True)"
   ]
  },
  {
   "cell_type": "code",
   "execution_count": null,
   "id": "ade89806-bbbb-4f31-a41b-afde66f037f0",
   "metadata": {},
   "outputs": [],
   "source": [
    "# places to put files - best practice chapter 2!\n",
    "\n",
    "os.makedirs(\"input\", exist_ok=True)\n",
    "os.makedirs(\"10k_files\", exist_ok=True)"
   ]
  },
  {
   "cell_type": "markdown",
   "id": "ff018d81-e737-42ed-9d2c-8ac7bdd9fb5a",
   "metadata": {},
   "source": [
    "## Step 1: Get a list of S&P 500 firms\n",
    "\n",
    "Using a sample of S&P500 firms is sensible. Two major points come up, the first of which we discussed in class a lot.\n",
    "\n",
    "The obvious limitation is \"what if the relationships between our  measurements and returns are different for smaller firms outside the S&P500\"? This is a good concern, and worthy of discussion in your results. Do you have an **economic argument** for why your particular risks would be more, less, or oppositely relevant for small firms? Depending on your answer, that means a relationship you find might be too high or too low. Maybe the sign of the relationship flips. \n",
    "\n",
    "The second major issue how we get the list of S&P 500 firms below. This code gets the list of S&P 500 firms **as of today.** So our sample (A) excludes firms that were S&P in Mar 2022 but no longer are and (B) includes firms that weren't before but are now.  This could bias our results. \n",
    "- Counterargument: The firms that joined after Jan 1 2023 were likely pretty close to the inclusion threshold during 2022\n",
    "- Perhaps the firms we are erroneously missing (which we know had poor returns) had HIGH risk factors (which is why they did poorly). So excluding them makes it harder to find a risk-return relationship. \n",
    "- Perhaps the firms that we are erroneously including (with high returns) had low risk factors (which is why they fared better in the pandemic). So including them makes it easier to find a risk-return relationship. \n",
    "\n",
    "Putting those arguments together, the very way I constructed this sample might bias the results, but it depends on the specifics of the \"leavers\" and \"joiners\". \n"
   ]
  },
  {
   "cell_type": "code",
   "execution_count": 18,
   "id": "f3e6208c-9318-4e46-928b-ee12116fe74c",
   "metadata": {},
   "outputs": [],
   "source": [
    "# get a file with sample firms and info on them\n",
    "# (somewhat simplistic option!)\n",
    "\n",
    "sp500_file = 'inputs/sp500_2022.csv'\n",
    "\n",
    "if not os.path.exists(sp500_file):\n",
    "    url = 'https://en.wikipedia.org/wiki/List_of_S%26P_500_companies'\n",
    "    pd.read_html(url)[0].to_csv(sp500_file,index=False)\n",
    "\n",
    "sp500 = pd.read_csv('inputs/sp500_2022.csv')    "
   ]
  },
  {
   "cell_type": "markdown",
   "id": "48a6d5fa-b04a-4b9e-afa7-03a956aac3fd",
   "metadata": {},
   "source": [
    "## Step 2: Download their last 10-K during 2022\n"
   ]
  },
  {
   "cell_type": "code",
   "execution_count": 20,
   "id": "2a96a54e-7fc5-4806-916c-a1abf11b6cbd",
   "metadata": {},
   "outputs": [],
   "source": [
    "dl = Downloader(\"10k_files\")"
   ]
  },
  {
   "cell_type": "code",
   "execution_count": 22,
   "id": "42c98d6d-a94b-488f-962c-30e70b3d8222",
   "metadata": {},
   "outputs": [
    {
     "name": "stderr",
     "output_type": "stream",
     "text": [
      "C:\\Users\\DonsLaptop\\anaconda3\\lib\\site-packages\\bs4\\builder\\__init__.py:545: XMLParsedAsHTMLWarning: It looks like you're parsing an XML document using an HTML parser. If this really is an HTML document (maybe it's XHTML?), you can ignore or filter this warning. If it's XML, you should know that using an XML parser will be more reliable. To parse this document as XML, make sure you have the lxml package installed, and pass the keyword argument `features=\"xml\"` into the BeautifulSoup constructor.\n",
      "  warnings.warn(\n"
     ]
    },
    {
     "data": {
      "text/plain": [
       "1"
      ]
     },
     "execution_count": 22,
     "metadata": {},
     "output_type": "execute_result"
    }
   ],
   "source": [
    "dl.get('10-K','MSFT',amount=1)"
   ]
  },
  {
   "cell_type": "code",
   "execution_count": null,
   "id": "494c6345-1b40-4f2d-975d-743149b400a3",
   "metadata": {},
   "outputs": [],
   "source": []
  }
 ],
 "metadata": {
  "kernelspec": {
   "display_name": "Python 3 (ipykernel)",
   "language": "python",
   "name": "python3"
  },
  "language_info": {
   "codemirror_mode": {
    "name": "ipython",
    "version": 3
   },
   "file_extension": ".py",
   "mimetype": "text/x-python",
   "name": "python",
   "nbconvert_exporter": "python",
   "pygments_lexer": "ipython3",
   "version": "3.8.16"
  }
 },
 "nbformat": 4,
 "nbformat_minor": 5
}
